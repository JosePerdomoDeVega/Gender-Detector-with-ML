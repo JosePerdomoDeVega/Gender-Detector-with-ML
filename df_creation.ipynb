{
 "cells": [
  {
   "cell_type": "markdown",
   "source": [
    "# Create the DataFrame for the training of the model\n",
    "\n",
    "\n",
    "**This notebook is not necessary to execute unless you want to change the images for training**\n",
    "\n",
    "The csv files *train_df_vectors* and *train_df_vectors* are made with a thousand pictures of famous people"
   ],
   "metadata": {
    "collapsed": false
   },
   "id": "fc4f34b9c98496b2"
  },
  {
   "cell_type": "code",
   "execution_count": null,
   "id": "initial_id",
   "metadata": {
    "collapsed": true
   },
   "outputs": [],
   "source": [
    "import pandas as pd\n",
    "\n",
    "df_train = pd.read_csv('Imagenes-CelebA-1K//celebA1K-train.csv')\n",
    "\n",
    "df_test = pd.read_csv('Imagenes-CelebA-1K//celebA1K-test.csv')"
   ]
  },
  {
   "cell_type": "markdown",
   "source": [
    "**The following code is heavy and it´s NOT necesary to execute**\n",
    "\n",
    "It takes the images and transform ALL of them into the vectors. \n",
    "\n",
    "*These DataFrames are already created in the directory Imagenes-CelebA-1K (train_df_vectors y test_df_vectors)*"
   ],
   "metadata": {
    "collapsed": false
   },
   "id": "9dbdc192ebd9350f"
  },
  {
   "cell_type": "code",
   "outputs": [],
   "source": [
    "from deepface import DeepFace\n",
    "from IPython.display import clear_output\n",
    "\n",
    "\n",
    "image_vectors = [[], []]\n",
    "dfs = [df_test, df_train]\n",
    "\n",
    "names = ['test', 'train']\n",
    "\n",
    "for i in range(len(dfs)):\n",
    "    for j, photo in enumerate(dfs[i]['Image_name']):\n",
    "\n",
    "        photo = f'Imagenes-CelebA-1K//imagenes-{names[i]}//' + photo\n",
    "    \n",
    "        embedding_objs = DeepFace.represent(img_path = photo,\n",
    "                                            model_name = 'Facenet512',\n",
    "                                            detector_backend = 'opencv',\n",
    "                                            enforce_detection=False\n",
    "                                            )\n",
    "        \n",
    "        if i == 0:\n",
    "            movement = 35\n",
    "        else:\n",
    "            movement = 36\n",
    "\n",
    "        print(f'Percentage of images evaluated {names[i]}: {j/len(dfs[i]['Image_name'])*100:.1f}%       Actual image --> {photo[movement:]}')\n",
    "        try:\n",
    "            embedding = embedding_objs[0][\"embedding\"]\n",
    "        except Exception:\n",
    "            print(f\"There was an error while transforming the image: {photo[movement:]}. The photo has been ignored.\")\n",
    "            dfs[i] = dfs[i].loc[dfs[i]['Image_name'] != photo[movement:]]\n",
    "            continue\n",
    "    \n",
    "        image_vectors[i].append(embedding)\n",
    "        clear_output(wait=True)"
   ],
   "metadata": {
    "collapsed": false
   },
   "id": "d305ab91c7a978d7"
  },
  {
   "cell_type": "markdown",
   "source": [
    "**Add vectors to the original DataFrame**"
   ],
   "metadata": {
    "collapsed": false
   },
   "id": "bd434c6120b71b57"
  },
  {
   "cell_type": "code",
   "outputs": [],
   "source": [
    "for i, df in enumerate(dfs):\n",
    "    for j in range(len(image_vectors[0][0])):\n",
    "        new_column = []\n",
    "    \n",
    "        for vector in image_vectors[i]:\n",
    "            new_column.append(vector[j])\n",
    "        \n",
    "        dfs[i][str(j)] = new_column\n",
    "        clear_output(wait=True)"
   ],
   "metadata": {
    "collapsed": false
   },
   "id": "dae68b915b18130b"
  },
  {
   "cell_type": "code",
   "outputs": [],
   "source": [
    "dfs[0].to_csv('Imagenes-CelebA-1K//train_df_vectors.csv', index=False)\n",
    "dfs[1].to_csv('Imagenes-CelebA-1K//test_df_vectors.csv', index=False)"
   ],
   "metadata": {
    "collapsed": false
   },
   "id": "505ca32dc321a1b2"
  }
 ],
 "metadata": {
  "kernelspec": {
   "display_name": "Python 3",
   "language": "python",
   "name": "python3"
  },
  "language_info": {
   "codemirror_mode": {
    "name": "ipython",
    "version": 2
   },
   "file_extension": ".py",
   "mimetype": "text/x-python",
   "name": "python",
   "nbconvert_exporter": "python",
   "pygments_lexer": "ipython2",
   "version": "2.7.6"
  }
 },
 "nbformat": 4,
 "nbformat_minor": 5
}
